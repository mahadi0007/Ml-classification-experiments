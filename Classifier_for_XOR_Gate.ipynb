{
  "nbformat": 4,
  "nbformat_minor": 0,
  "metadata": {
    "colab": {
      "provenance": [],
      "authorship_tag": "ABX9TyPPiEotD215PjNu5pKKLnM/",
      "include_colab_link": true
    },
    "kernelspec": {
      "name": "python3",
      "display_name": "Python 3"
    },
    "language_info": {
      "name": "python"
    }
  },
  "cells": [
    {
      "cell_type": "markdown",
      "metadata": {
        "id": "view-in-github",
        "colab_type": "text"
      },
      "source": [
        "<a href=\"https://colab.research.google.com/github/mahadi0007/Ml-classification-experiments/blob/main/Classifier_for_XOR_Gate.ipynb\" target=\"_parent\"><img src=\"https://colab.research.google.com/assets/colab-badge.svg\" alt=\"Open In Colab\"/></a>"
      ]
    },
    {
      "cell_type": "code",
      "execution_count": null,
      "metadata": {
        "id": "fwonB98Oupur"
      },
      "outputs": [],
      "source": [
        "import numpy as np"
      ]
    },
    {
      "cell_type": "code",
      "source": [
        "# Define the XOR dataset\n",
        "X = np.array([[0, 0], [0, 1], [1, 0], [1, 1]])\n",
        "y = np.array([0, 1, 1, 0])"
      ],
      "metadata": {
        "id": "wkpsH8i4vDsP"
      },
      "execution_count": null,
      "outputs": []
    },
    {
      "cell_type": "code",
      "source": [
        "# Define the neural network architecture\n",
        "class XORClassifier:\n",
        "    def __init__(self):\n",
        "        # Initialize weights and biases randomly\n",
        "        self.W1 = np.random.randn(2, 2)\n",
        "        self.b1 = np.random.randn(2)\n",
        "        self.W2 = np.random.randn(2, 1)\n",
        "        self.b2 = np.random.randn(1)\n",
        "\n",
        "    def sigmoid(self, x):\n",
        "        return 1 / (1 + np.exp(-x))\n",
        "\n",
        "    def predict(self, X):\n",
        "        # Forward propagation\n",
        "        hidden_layer = self.sigmoid(np.dot(X, self.W1) + self.b1)\n",
        "        output_layer = self.sigmoid(np.dot(hidden_layer, self.W2) + self.b2)\n",
        "        return (output_layer > 0.5).astype(int)\n",
        "\n",
        "    def train(self, X, y, learning_rate=0.1, epochs=10000):\n",
        "        for epoch in range(epochs):\n",
        "            # Forward propagation\n",
        "            hidden_layer = self.sigmoid(np.dot(X, self.W1) + self.b1)\n",
        "            output_layer = self.sigmoid(np.dot(hidden_layer, self.W2) + self.b2)\n",
        "\n",
        "            # Backpropagation\n",
        "            output_error = y.reshape(-1, 1) - output_layer\n",
        "            output_delta = output_error * output_layer * (1 - output_layer)\n",
        "\n",
        "            hidden_error = output_delta.dot(self.W2.T)\n",
        "            hidden_delta = hidden_error * hidden_layer * (1 - hidden_layer)\n",
        "\n",
        "            # Update weights and biases\n",
        "            self.W2 += learning_rate * hidden_layer.T.dot(output_delta)\n",
        "            self.b2 += learning_rate * np.sum(output_delta, axis=0)\n",
        "            self.W1 += learning_rate * X.T.dot(hidden_delta)\n",
        "            self.b1 += learning_rate * np.sum(hidden_delta, axis=0)\n"
      ],
      "metadata": {
        "id": "XgnDNOufwXto"
      },
      "execution_count": null,
      "outputs": []
    },
    {
      "cell_type": "code",
      "source": [
        "# Create and train the classifier\n",
        "classifier = XORClassifier()\n",
        "classifier.train(X, y)\n",
        "\n",
        "# Make predictions\n",
        "predictions = classifier.predict(X)\n",
        "\n",
        "# Print the predictions\n",
        "print(predictions)"
      ],
      "metadata": {
        "colab": {
          "base_uri": "https://localhost:8080/"
        },
        "id": "eMmQwRRgxeUQ",
        "outputId": "39a2327b-b4e2-40ea-9857-561b27de49ab"
      },
      "execution_count": null,
      "outputs": [
        {
          "output_type": "stream",
          "name": "stdout",
          "text": [
            "[[0]\n",
            " [1]\n",
            " [1]\n",
            " [0]]\n"
          ]
        }
      ]
    },
    {
      "cell_type": "code",
      "source": [
        "# predicting on new random input\n",
        "random_input = np.random.randint(0, 2, size=(1, 2))\n",
        "random_prediction = classifier.predict(random_input)\n",
        "print(f\"Prediction for random input {random_input}: {random_prediction}\")"
      ],
      "metadata": {
        "colab": {
          "base_uri": "https://localhost:8080/"
        },
        "id": "K9Vj60yuxdBH",
        "outputId": "a7271e56-bf52-46f2-de4e-999367b52732"
      },
      "execution_count": null,
      "outputs": [
        {
          "output_type": "stream",
          "name": "stdout",
          "text": [
            "Prediction for random input [[0 1]]: [[1]]\n"
          ]
        }
      ]
    }
  ]
}