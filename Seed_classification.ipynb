{
  "nbformat": 4,
  "nbformat_minor": 0,
  "metadata": {
    "colab": {
      "provenance": [],
      "authorship_tag": "ABX9TyN5yRzQ6JCol3P+snKm31SR",
      "include_colab_link": true
    },
    "kernelspec": {
      "name": "python3",
      "display_name": "Python 3"
    },
    "language_info": {
      "name": "python"
    }
  },
  "cells": [
    {
      "cell_type": "markdown",
      "metadata": {
        "id": "view-in-github",
        "colab_type": "text"
      },
      "source": [
        "<a href=\"https://colab.research.google.com/github/mahadi0007/Ml-classification-experiments/blob/main/Seed_classification.ipynb\" target=\"_parent\"><img src=\"https://colab.research.google.com/assets/colab-badge.svg\" alt=\"Open In Colab\"/></a>"
      ]
    },
    {
      "cell_type": "code",
      "source": [
        "import numpy as np\n",
        "import pandas as pd\n",
        "from numpy import argmax\n",
        "from sklearn.model_selection import train_test_split\n",
        "from sklearn.preprocessing import LabelEncoder\n",
        "from sklearn.preprocessing import MinMaxScaler\n",
        "from tensorflow.keras import Sequential\n",
        "from tensorflow.keras.layers import Dense"
      ],
      "metadata": {
        "id": "QXxU5BFQqm9Z"
      },
      "execution_count": null,
      "outputs": []
    },
    {
      "cell_type": "code",
      "execution_count": null,
      "metadata": {
        "colab": {
          "base_uri": "https://localhost:8080/"
        },
        "id": "E4yfQbXifb1M",
        "outputId": "7e43cda6-e46c-4d23-fbfd-2ff0619518e3"
      },
      "outputs": [
        {
          "output_type": "stream",
          "name": "stderr",
          "text": [
            "<ipython-input-23-d58bfe9a68df>:15: FutureWarning: The 'delim_whitespace' keyword in pd.read_csv is deprecated and will be removed in a future version. Use ``sep='\\s+'`` instead\n",
            "  seeds = pd.read_csv(url, delim_whitespace=True, header=None, names=columns)\n"
          ]
        },
        {
          "output_type": "stream",
          "name": "stdout",
          "text": [
            "      area  perimeter  compactness  kernel_length  kernel_width  \\\n",
            "0    15.26      14.84       0.8710          5.763         3.312   \n",
            "1    14.88      14.57       0.8811          5.554         3.333   \n",
            "2    14.29      14.09       0.9050          5.291         3.337   \n",
            "3    13.84      13.94       0.8955          5.324         3.379   \n",
            "4    16.14      14.99       0.9034          5.658         3.562   \n",
            "..     ...        ...          ...            ...           ...   \n",
            "205  12.19      13.20       0.8783          5.137         2.981   \n",
            "206  11.23      12.88       0.8511          5.140         2.795   \n",
            "207  13.20      13.66       0.8883          5.236         3.232   \n",
            "208  11.84      13.21       0.8521          5.175         2.836   \n",
            "209  12.30      13.34       0.8684          5.243         2.974   \n",
            "\n",
            "     asymmetry_coef  groove_length  class  \n",
            "0             2.221          5.220      1  \n",
            "1             1.018          4.956      1  \n",
            "2             2.699          4.825      1  \n",
            "3             2.259          4.805      1  \n",
            "4             1.355          5.175      1  \n",
            "..              ...            ...    ...  \n",
            "205           3.631          4.870      3  \n",
            "206           4.325          5.003      3  \n",
            "207           8.315          5.056      3  \n",
            "208           3.598          5.044      3  \n",
            "209           5.637          5.063      3  \n",
            "\n",
            "[210 rows x 8 columns]\n"
          ]
        }
      ],
      "source": [
        "# Load the dataset from GitHub\n",
        "url = \"https://archive.ics.uci.edu/ml/machine-learning-databases/00236/seeds_dataset.txt\"\n",
        "columns = [\n",
        "    \"area\",             # Area of the kernel\n",
        "    \"perimeter\",        # Perimeter of the kernel\n",
        "    \"compactness\",      # Compactness (4*pi*area / perimeter^2)\n",
        "    \"kernel_length\",    # Length of the kernel\n",
        "    \"kernel_width\",     # Width of the kernel\n",
        "    \"asymmetry_coef\",   # Asymmetry coefficient\n",
        "    \"groove_length\",    # Length of the kernel groove\n",
        "    \"class\"             # Class (1 = Kama, 2 = Rosa, 3 = Canadian)\n",
        "]\n",
        "\n",
        "# Load the dataset\n",
        "seeds = pd.read_csv(url, delim_whitespace=True, header=None, names=columns)\n",
        "df = seeds\n",
        "# Display the first few rows\n",
        "print(df)"
      ]
    },
    {
      "cell_type": "code",
      "source": [
        "# Count missing values in each column\n",
        "missing_values = df.isna().sum()\n",
        "print(\"\\nMissing values:\\n\", missing_values)\n",
        "\n",
        "# Check unique classes in the target column\n",
        "print(\"\\nUnique classes in the 'class' column:\", df['class'].unique())"
      ],
      "metadata": {
        "colab": {
          "base_uri": "https://localhost:8080/"
        },
        "id": "n1SJpYYXrHAQ",
        "outputId": "8e2a9e43-b565-4a89-85c2-d4dfe3258de9"
      },
      "execution_count": null,
      "outputs": [
        {
          "output_type": "stream",
          "name": "stdout",
          "text": [
            "\n",
            "Missing values:\n",
            " area              0\n",
            "perimeter         0\n",
            "compactness       0\n",
            "kernel_length     0\n",
            "kernel_width      0\n",
            "asymmetry_coef    0\n",
            "groove_length     0\n",
            "class             0\n",
            "dtype: int64\n",
            "\n",
            "Unique classes in the 'class' column: [1 2 3]\n"
          ]
        }
      ]
    },
    {
      "cell_type": "code",
      "source": [
        "# split into input and output columns\n",
        "X, y = df.values[:, :-1], df.values[:, -1]\n",
        "\n",
        "y= y - 1\n",
        "\n",
        "X,y"
      ],
      "metadata": {
        "colab": {
          "base_uri": "https://localhost:8080/"
        },
        "collapsed": true,
        "id": "lI0LgbpBwEKN",
        "outputId": "a40b0a29-e44f-4a93-b9dd-826e36df9e78"
      },
      "execution_count": null,
      "outputs": [
        {
          "output_type": "execute_result",
          "data": {
            "text/plain": [
              "(array([[15.26  , 14.84  ,  0.871 , ...,  3.312 ,  2.221 ,  5.22  ],\n",
              "        [14.88  , 14.57  ,  0.8811, ...,  3.333 ,  1.018 ,  4.956 ],\n",
              "        [14.29  , 14.09  ,  0.905 , ...,  3.337 ,  2.699 ,  4.825 ],\n",
              "        ...,\n",
              "        [13.2   , 13.66  ,  0.8883, ...,  3.232 ,  8.315 ,  5.056 ],\n",
              "        [11.84  , 13.21  ,  0.8521, ...,  2.836 ,  3.598 ,  5.044 ],\n",
              "        [12.3   , 13.34  ,  0.8684, ...,  2.974 ,  5.637 ,  5.063 ]]),\n",
              " array([0., 0., 0., 0., 0., 0., 0., 0., 0., 0., 0., 0., 0., 0., 0., 0., 0.,\n",
              "        0., 0., 0., 0., 0., 0., 0., 0., 0., 0., 0., 0., 0., 0., 0., 0., 0.,\n",
              "        0., 0., 0., 0., 0., 0., 0., 0., 0., 0., 0., 0., 0., 0., 0., 0., 0.,\n",
              "        0., 0., 0., 0., 0., 0., 0., 0., 0., 0., 0., 0., 0., 0., 0., 0., 0.,\n",
              "        0., 0., 1., 1., 1., 1., 1., 1., 1., 1., 1., 1., 1., 1., 1., 1., 1.,\n",
              "        1., 1., 1., 1., 1., 1., 1., 1., 1., 1., 1., 1., 1., 1., 1., 1., 1.,\n",
              "        1., 1., 1., 1., 1., 1., 1., 1., 1., 1., 1., 1., 1., 1., 1., 1., 1.,\n",
              "        1., 1., 1., 1., 1., 1., 1., 1., 1., 1., 1., 1., 1., 1., 1., 1., 1.,\n",
              "        1., 1., 1., 1., 2., 2., 2., 2., 2., 2., 2., 2., 2., 2., 2., 2., 2.,\n",
              "        2., 2., 2., 2., 2., 2., 2., 2., 2., 2., 2., 2., 2., 2., 2., 2., 2.,\n",
              "        2., 2., 2., 2., 2., 2., 2., 2., 2., 2., 2., 2., 2., 2., 2., 2., 2.,\n",
              "        2., 2., 2., 2., 2., 2., 2., 2., 2., 2., 2., 2., 2., 2., 2., 2., 2.,\n",
              "        2., 2., 2., 2., 2., 2.]))"
            ]
          },
          "metadata": {},
          "execution_count": 25
        }
      ]
    },
    {
      "cell_type": "code",
      "source": [
        "# ensure all data are floating point values and scale them\n",
        "X = X.astype('float32')\n",
        "scaler_X= MinMaxScaler()\n",
        "scaler_X.fit(X)\n",
        "X = scaler_X.transform(X)\n",
        "print(X)"
      ],
      "metadata": {
        "colab": {
          "base_uri": "https://localhost:8080/"
        },
        "id": "g1pna7QMr0J-",
        "outputId": "4b1cb7e2-2aa0-4930-fd8b-bd5c41f6466b"
      },
      "execution_count": null,
      "outputs": [
        {
          "output_type": "stream",
          "name": "stdout",
          "text": [
            "[[0.44098198 0.50206614 0.57078075 ... 0.48610127 0.18930164 0.34515   ]\n",
            " [0.40509915 0.44628096 0.6624322  ... 0.50106895 0.03288303 0.2151649 ]\n",
            " [0.34938622 0.3471074  0.8793106  ... 0.50391996 0.251453   0.15066457]\n",
            " ...\n",
            " [0.24645889 0.2582643  0.72776794 ... 0.4290806  0.98166656 0.2644019 ]\n",
            " [0.11803591 0.16528916 0.39927435 ... 0.14682806 0.36834443 0.25849342]\n",
            " [0.16147304 0.19214869 0.54718685 ... 0.24518883 0.6334629  0.2678485 ]]\n"
          ]
        }
      ]
    },
    {
      "cell_type": "code",
      "source": [
        "# split into trainand testdatasets\n",
        "X_train, X_test, y_train, y_test= train_test_split(X, y, test_size=0.33)\n",
        "print(X_train.shape, X_test.shape, y_train.shape, y_test.shape)\n",
        "# determine the number of input features\n",
        "n_features = X_train.shape[1]\n",
        "# create dictionary of target classes\n",
        "label_dict = {\n",
        "  0: 'Kama',\n",
        "  1: 'Rosa',\n",
        "  2: 'Canadian'\n",
        "}"
      ],
      "metadata": {
        "colab": {
          "base_uri": "https://localhost:8080/"
        },
        "id": "K7JCowJ5wb7e",
        "outputId": "977cd723-a5f6-4e24-afd0-888dccc65c1f"
      },
      "execution_count": null,
      "outputs": [
        {
          "output_type": "stream",
          "name": "stdout",
          "text": [
            "(140, 7) (70, 7) (140,) (70,)\n"
          ]
        }
      ]
    },
    {
      "cell_type": "code",
      "source": [
        "# definemodel\n",
        "model= Sequential()\n",
        "model.add(Dense(32, activation='relu', kernel_initializer='he_normal',\n",
        "input_shape=(n_features,)))\n",
        "model.add(Dense(8, activation='relu', kernel_initializer='he_normal'))\n",
        "model.add(Dense(3, activation='softmax'))\n",
        "# compilethemodel\n",
        "model.compile(optimizer='adam',\n",
        "loss='sparse_categorical_crossentropy', metrics=['accuracy'])\n",
        "# fitthemodel\n",
        "model.fit(X_train, y_train, epochs=500, batch_size=32, verbose=0)\n",
        "# evaluate the model\n",
        "loss, acc = model.evaluate(X_test, y_test, verbose=0)\n",
        "print('Test Accuracy: %.3f' % acc)"
      ],
      "metadata": {
        "colab": {
          "base_uri": "https://localhost:8080/"
        },
        "id": "y5h5u5IDw39L",
        "outputId": "ba1a6fd0-55f2-40a2-91c5-a9d1062498d4"
      },
      "execution_count": null,
      "outputs": [
        {
          "output_type": "stream",
          "name": "stderr",
          "text": [
            "/usr/local/lib/python3.11/dist-packages/keras/src/layers/core/dense.py:87: UserWarning: Do not pass an `input_shape`/`input_dim` argument to a layer. When using Sequential models, prefer using an `Input(shape)` object as the first layer in the model instead.\n",
            "  super().__init__(activity_regularizer=activity_regularizer, **kwargs)\n"
          ]
        },
        {
          "output_type": "stream",
          "name": "stdout",
          "text": [
            "Test Accuracy: 0.957\n"
          ]
        }
      ]
    },
    {
      "cell_type": "code",
      "source": [
        "sample_input = [[0.5, 0.5, 0.5, 0.5, 0.5, 0.5, 0.5]]\n",
        "\n",
        "# Scale the sample input using the same scaler used for training\n",
        "sample_input_scaled = scaler_X.transform(sample_input)\n",
        "\n",
        "# Make a prediction\n",
        "prediction = model.predict(sample_input_scaled)\n",
        "\n",
        "# Get the predicted class\n",
        "predicted_class_index = np.argmax(prediction)\n",
        "predicted_class_label = label_dict[predicted_class_index]\n",
        "\n",
        "# Print the predicted class\n",
        "print(\"Predicted Class:\", predicted_class_label)"
      ],
      "metadata": {
        "id": "o-3P0xNSyvYx",
        "outputId": "3aace12a-4cce-4906-edcd-639d34451346",
        "colab": {
          "base_uri": "https://localhost:8080/"
        }
      },
      "execution_count": null,
      "outputs": [
        {
          "output_type": "stream",
          "name": "stdout",
          "text": [
            "\u001b[1m1/1\u001b[0m \u001b[32m━━━━━━━━━━━━━━━━━━━━\u001b[0m\u001b[37m\u001b[0m \u001b[1m0s\u001b[0m 73ms/step\n",
            "Predicted Class: Canadian\n"
          ]
        }
      ]
    }
  ]
}